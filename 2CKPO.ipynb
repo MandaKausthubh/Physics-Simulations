{
 "cells": [
  {
   "cell_type": "markdown",
   "id": "8fa9abe2-8f5c-461b-b98f-ccea2989bce8",
   "metadata": {},
   "source": [
    "---\n",
    "title: 4 Coupled KPOs\n",
    "jupyter:\n",
    "  jupytext:\n",
    "    text_representation:\n",
    "      extension: .qmd\n",
    "      format_name: quarto\n",
    "      format_version: '1.0'\n",
    "      jupytext_version: 1.16.2\n",
    "  kernelspec:\n",
    "    display_name: Python 3 (ipykernel)\n",
    "    language: python\n",
    "    name: python3\n",
    "---\n"
   ]
  },
  {
   "cell_type": "code",
   "execution_count": 1,
   "id": "4d778950-0321-4dc5-9304-c922a4f218c6",
   "metadata": {},
   "outputs": [],
   "source": [
    "import numpy as np\n",
    "import matplotlib.pyplot as plt\n",
    "from qutip import *\n",
    "# from tqdm import tqdm\n",
    "from qutip.ui.progressbar import BaseProgressBar, TextProgressBar"
   ]
  },
  {
   "cell_type": "markdown",
   "id": "4391d4a9-e3f0-431b-bd10-114d7defb75c",
   "metadata": {},
   "source": [
    "## Parameters\n",
    "\n",
    "## $\\hbar = 1$"
   ]
  },
  {
   "cell_type": "code",
   "execution_count": 2,
   "id": "12de975f-d549-4291-9ff2-fe65628ff5b1",
   "metadata": {},
   "outputs": [],
   "source": [
    "N = 2 # Number of KPOs\n",
    "n_levels = 5 # Truncation level for Fock space\n",
    "K = 1.0 # Kerr nonlinearity\n",
    "p = 7.0 * K # Maximum pump strength\n",
    "xi = 0.5 * K # Coupling constant\n",
    "T = 700 / K # Total evolution time\n",
    "num_steps = 1000 # number of time steps"
   ]
  },
  {
   "cell_type": "markdown",
   "id": "7a55a67f-8383-4964-b40f-e13313ca786c",
   "metadata": {},
   "source": [
    "## Symmetric coupling matrix J"
   ]
  },
  {
   "cell_type": "code",
   "execution_count": 3,
   "id": "969baf3c-9b2b-4ec6-b87c-a79808453870",
   "metadata": {},
   "outputs": [],
   "source": [
    "J = np.random.uniform(-1, 1, (N, N))\n",
    "J = (J + J.T) / 2 # Make J symmetric\n",
    "np.fill_diagonal(J, 0) # Ensure no self coupling\n",
    "J = Qobj(J)"
   ]
  },
  {
   "cell_type": "code",
   "execution_count": 4,
   "id": "d894829e-f1b6-45be-8a51-93576308f423",
   "metadata": {},
   "outputs": [
    {
     "data": {
      "text/latex": [
       "Quantum object: dims=[[2], [2]], shape=(2, 2), type='oper', dtype=Dense, isherm=True$$\\left(\\begin{array}{cc}0 & 0.325\\\\0.325 & 0\\end{array}\\right)$$"
      ],
      "text/plain": [
       "Quantum object: dims=[[2], [2]], shape=(2, 2), type='oper', dtype=Dense, isherm=True\n",
       "Qobj data =\n",
       "[[0.         0.32539616]\n",
       " [0.32539616 0.        ]]"
      ]
     },
     "execution_count": 4,
     "metadata": {},
     "output_type": "execute_result"
    }
   ],
   "source": [
    "J"
   ]
  },
  {
   "cell_type": "markdown",
   "id": "f36bf405-bdcc-46dd-a93d-99569123fbea",
   "metadata": {},
   "source": [
    "## Annihilation operator $\\hat{a}_{i}$"
   ]
  },
  {
   "cell_type": "code",
   "execution_count": 5,
   "id": "532b7f56-f29a-4330-966d-e8ea11cde85e",
   "metadata": {},
   "outputs": [],
   "source": [
    "a = [destroy(n_levels) for _ in range(N)]"
   ]
  },
  {
   "cell_type": "code",
   "execution_count": 6,
   "id": "e8acdead-7eea-41b6-b7f3-2f10c14295db",
   "metadata": {},
   "outputs": [
    {
     "data": {
      "text/latex": [
       "Quantum object: dims=[[5], [5]], shape=(5, 5), type='oper', dtype=Dia, isherm=False$$\\left(\\begin{array}{cc}0 & 1 & 0 & 0 & 0\\\\0 & 0 & 1.414 & 0 & 0\\\\0 & 0 & 0 & 1.732 & 0\\\\0 & 0 & 0 & 0 & 2\\\\0 & 0 & 0 & 0 & 0\\end{array}\\right)$$"
      ],
      "text/plain": [
       "Quantum object: dims=[[5], [5]], shape=(5, 5), type='oper', dtype=Dia, isherm=False\n",
       "Qobj data =\n",
       "[[0.         1.         0.         0.         0.        ]\n",
       " [0.         0.         1.41421356 0.         0.        ]\n",
       " [0.         0.         0.         1.73205081 0.        ]\n",
       " [0.         0.         0.         0.         2.        ]\n",
       " [0.         0.         0.         0.         0.        ]]"
      ]
     },
     "execution_count": 6,
     "metadata": {},
     "output_type": "execute_result"
    }
   ],
   "source": [
    "a[0]"
   ]
  },
  {
   "cell_type": "markdown",
   "id": "f390f44c-f485-4cb1-8390-65900d32eefd",
   "metadata": {},
   "source": [
    "## Adiabatic evolution condition\n",
    "## $\\Delta_{i} = \\xi_{0} \\sum_{j=1}^{N} |J_{i,j}|$"
   ]
  },
  {
   "cell_type": "code",
   "execution_count": 7,
   "id": "6341f4b7-91a2-4f5e-bb96-6e46081d3dab",
   "metadata": {},
   "outputs": [],
   "source": [
    "Delta = [xi * np.sum(np.abs(J[i])) for i in range(N)]"
   ]
  },
  {
   "cell_type": "code",
   "execution_count": 8,
   "id": "705305dd-505c-4a3b-bca0-436f6800a558",
   "metadata": {},
   "outputs": [
    {
     "data": {
      "text/plain": [
       "[0.16269808040160777, 0.16269808040160777]"
      ]
     },
     "execution_count": 8,
     "metadata": {},
     "output_type": "execute_result"
    }
   ],
   "source": [
    "Delta"
   ]
  },
  {
   "cell_type": "markdown",
   "id": "53fe3dca-746c-4e40-9299-55d7daf2b5dd",
   "metadata": {},
   "source": [
    "## Single KPO Hamiltonian terms\n",
    "\n",
    "### $H_{\\Delta}^{(i)} = \\Delta_{i} a^\\dagger_{i} a_{i}$"
   ]
  },
  {
   "cell_type": "code",
   "execution_count": 9,
   "id": "d664d4ef-a640-4e65-bd26-f4069ba2f16a",
   "metadata": {},
   "outputs": [],
   "source": [
    "H_D = [Delta[i] * a[i].dag() * a[i] for i in range(N)]"
   ]
  },
  {
   "cell_type": "markdown",
   "id": "94a1bb2f-e2be-4f69-b5c8-65fd2a9f54ed",
   "metadata": {},
   "source": [
    "### $H_{K}^{(i)} = \\frac{K}{2} {a^\\dagger_{i}}^{2} {a_{i}}^{2}$"
   ]
  },
  {
   "cell_type": "code",
   "execution_count": 10,
   "id": "3de14f2c-7d57-448e-a987-e3a66e7645ec",
   "metadata": {},
   "outputs": [],
   "source": [
    "H_K = [(K / 2) * a[i].dag() * a[i].dag() * a[i] * a[i] for i in range(N)]"
   ]
  },
  {
   "cell_type": "code",
   "execution_count": 11,
   "id": "611731ec-015e-4db6-b1c8-87e1537d7fbf",
   "metadata": {},
   "outputs": [
    {
     "data": {
      "text/latex": [
       "Quantum object: dims=[[5], [5]], shape=(5, 5), type='oper', dtype=Dia, isherm=True$$\\left(\\begin{array}{cc}0 & 0 & 0 & 0 & 0\\\\0 & 0 & 0 & 0 & 0\\\\0 & 0 & 1 & 0 & 0\\\\0 & 0 & 0 & 3 & 0\\\\0 & 0 & 0 & 0 & 6.000\\end{array}\\right)$$"
      ],
      "text/plain": [
       "Quantum object: dims=[[5], [5]], shape=(5, 5), type='oper', dtype=Dia, isherm=True\n",
       "Qobj data =\n",
       "[[0. 0. 0. 0. 0.]\n",
       " [0. 0. 0. 0. 0.]\n",
       " [0. 0. 1. 0. 0.]\n",
       " [0. 0. 0. 3. 0.]\n",
       " [0. 0. 0. 0. 6.]]"
      ]
     },
     "execution_count": 11,
     "metadata": {},
     "output_type": "execute_result"
    }
   ],
   "source": [
    "H_K[0]"
   ]
  },
  {
   "cell_type": "markdown",
   "id": "71f15cac-aef0-416b-9f8e-0cfa0fa99584",
   "metadata": {},
   "source": [
    "### $H_{p}^{(i)} = {a^\\dagger_{i}}^{2} + {a_{i}}^{2}$\n",
    "### $\\frac{p}{2}$ will be multiplied to this term during time evolution"
   ]
  },
  {
   "cell_type": "code",
   "execution_count": 12,
   "id": "c516672d-0655-4be0-a5bb-bc61b70efe8b",
   "metadata": {},
   "outputs": [],
   "source": [
    "H_plist = [a[i].dag() * a[i].dag() + a[i] * a[i] for i in range(N)]"
   ]
  },
  {
   "cell_type": "code",
   "execution_count": 13,
   "id": "f32cf261-03e1-42d3-8519-1622dd4a6dd5",
   "metadata": {},
   "outputs": [
    {
     "data": {
      "text/latex": [
       "Quantum object: dims=[[5], [5]], shape=(5, 5), type='oper', dtype=Dia, isherm=True$$\\left(\\begin{array}{cc}0 & 0 & 1.414 & 0 & 0\\\\0 & 0 & 0 & 2.449 & 0\\\\1.414 & 0 & 0 & 0 & 3.464\\\\0 & 2.449 & 0 & 0 & 0\\\\0 & 0 & 3.464 & 0 & 0\\end{array}\\right)$$"
      ],
      "text/plain": [
       "Quantum object: dims=[[5], [5]], shape=(5, 5), type='oper', dtype=Dia, isherm=True\n",
       "Qobj data =\n",
       "[[0.         0.         1.41421356 0.         0.        ]\n",
       " [0.         0.         0.         2.44948974 0.        ]\n",
       " [1.41421356 0.         0.         0.         3.46410162]\n",
       " [0.         2.44948974 0.         0.         0.        ]\n",
       " [0.         0.         3.46410162 0.         0.        ]]"
      ]
     },
     "execution_count": 13,
     "metadata": {},
     "output_type": "execute_result"
    }
   ],
   "source": [
    "H_plist[0]"
   ]
  },
  {
   "cell_type": "markdown",
   "id": "a1ceb6ca-c7fe-415a-92b6-a07dfa70007a",
   "metadata": {},
   "source": [
    "## Coupling term\n",
    "## $H_{C} = \\frac{\\xi_{0}}{2} \\sum_{i=1}^{N} \\sum_{j=1}^{N} J_{i,j} ( a_{i}^\\dagger a_{j} + a_{i} a_{j}^\\dagger)$ "
   ]
  },
  {
   "cell_type": "code",
   "execution_count": 14,
   "id": "be263845-8d30-4a95-9ed7-53eb083ad31d",
   "metadata": {},
   "outputs": [],
   "source": [
    "H_C = 0.5 * xi * sum([J[i, j] * (a[i].dag() * a[j] + a[i] * a[j].dag()) \n",
    "                      for i in range(N) for j in range(N)])"
   ]
  },
  {
   "cell_type": "code",
   "execution_count": 15,
   "id": "e22fc13c-c8bd-48b3-b04c-96736b17b6a8",
   "metadata": {},
   "outputs": [
    {
     "data": {
      "text/latex": [
       "Quantum object: dims=[[5], [5]], shape=(5, 5), type='oper', dtype=Dia, isherm=True$$\\left(\\begin{array}{cc}0.163 & 0 & 0 & 0 & 0\\\\0 & 0.488 & 0 & 0 & 0\\\\0 & 0 & 0.813 & 0 & 0\\\\0 & 0 & 0 & 1.139 & 0\\\\0 & 0 & 0 & 0 & 0.651\\end{array}\\right)$$"
      ],
      "text/plain": [
       "Quantum object: dims=[[5], [5]], shape=(5, 5), type='oper', dtype=Dia, isherm=True\n",
       "Qobj data =\n",
       "[[0.16269808 0.         0.         0.         0.        ]\n",
       " [0.         0.48809424 0.         0.         0.        ]\n",
       " [0.         0.         0.8134904  0.         0.        ]\n",
       " [0.         0.         0.         1.13888656 0.        ]\n",
       " [0.         0.         0.         0.         0.65079232]]"
      ]
     },
     "execution_count": 15,
     "metadata": {},
     "output_type": "execute_result"
    }
   ],
   "source": [
    "H_C"
   ]
  },
  {
   "cell_type": "markdown",
   "id": "5dd58278-a342-48a4-9852-a694599377e8",
   "metadata": {},
   "source": [
    "## Identity operator"
   ]
  },
  {
   "cell_type": "code",
   "execution_count": 16,
   "id": "e815747f-5e66-4858-81d6-d35d8a660ce3",
   "metadata": {},
   "outputs": [],
   "source": [
    "I = qeye(n_levels)"
   ]
  },
  {
   "cell_type": "code",
   "execution_count": 17,
   "id": "6ec45df4-32a3-4050-8060-8cb3668988fb",
   "metadata": {},
   "outputs": [
    {
     "data": {
      "text/latex": [
       "Quantum object: dims=[[5], [5]], shape=(5, 5), type='oper', dtype=Dia, isherm=True$$\\left(\\begin{array}{cc}1 & 0 & 0 & 0 & 0\\\\0 & 1 & 0 & 0 & 0\\\\0 & 0 & 1 & 0 & 0\\\\0 & 0 & 0 & 1 & 0\\\\0 & 0 & 0 & 0 & 1\\end{array}\\right)$$"
      ],
      "text/plain": [
       "Quantum object: dims=[[5], [5]], shape=(5, 5), type='oper', dtype=Dia, isherm=True\n",
       "Qobj data =\n",
       "[[1. 0. 0. 0. 0.]\n",
       " [0. 1. 0. 0. 0.]\n",
       " [0. 0. 1. 0. 0.]\n",
       " [0. 0. 0. 1. 0.]\n",
       " [0. 0. 0. 0. 1.]]"
      ]
     },
     "execution_count": 17,
     "metadata": {},
     "output_type": "execute_result"
    }
   ],
   "source": [
    "I"
   ]
  },
  {
   "cell_type": "markdown",
   "id": "b33c8c42-c944-45dd-91b4-dee393339915",
   "metadata": {},
   "source": [
    "## Time-dependent Hamiltonian\n",
    "## $H(P(t))$"
   ]
  },
  {
   "cell_type": "code",
   "execution_count": 18,
   "id": "1b84b9f9-9e93-42e7-93c7-bf78edd353d4",
   "metadata": {},
   "outputs": [],
   "source": [
    "def H_t(t, args):\n",
    "    p = args['p_max'] * (t / T)\n",
    "    H_p = (p / 2) * sum([tensor([H_plist[i] if i == k else I for k in range(N)]) for i in range(N)])\n",
    "    H = sum([tensor([H_K[i] if i == k else I for k in range(N)]) for i in range(N)]) + \\\n",
    "        sum([tensor([H_D[i] if i == k else I for k in range(N)]) for i in range(N)]) - \\\n",
    "        tensor([H_C if i == 0 else qeye(n_levels) for i in range(N)])\n",
    "\n",
    "    return H - H_p"
   ]
  },
  {
   "cell_type": "markdown",
   "id": "de42c11f-19e8-4e91-85af-d32305615eb5",
   "metadata": {},
   "source": [
    "## Arguments for TDH"
   ]
  },
  {
   "cell_type": "code",
   "execution_count": 19,
   "id": "bf70d094-16fb-4f13-b435-302a90791a35",
   "metadata": {},
   "outputs": [],
   "source": [
    "H_args = {'p_max': p}"
   ]
  },
  {
   "cell_type": "code",
   "execution_count": 20,
   "id": "7b609a49-dce2-4466-ac99-27dd3f4637f9",
   "metadata": {},
   "outputs": [
    {
     "data": {
      "text/plain": [
       "{'p_max': 7.0}"
      ]
     },
     "execution_count": 20,
     "metadata": {},
     "output_type": "execute_result"
    }
   ],
   "source": [
    "H_args"
   ]
  },
  {
   "cell_type": "markdown",
   "id": "bbd1ab40-2fc8-478f-9c2c-3f31723a4ac2",
   "metadata": {},
   "source": [
    "## Initial state $\\ket{0} \\otimes \\ket{0} \\otimes \\ket{0} \\otimes \\ket{0}$"
   ]
  },
  {
   "cell_type": "code",
   "execution_count": 21,
   "id": "b95003e0-4c8e-4260-84f7-6012d12cfd8b",
   "metadata": {},
   "outputs": [],
   "source": [
    "psi0 = tensor([basis(n_levels, 0) for _ in range(N)])"
   ]
  },
  {
   "cell_type": "code",
   "execution_count": 22,
   "id": "3fe40fb7-ca09-411b-bd14-c9e2cc1abc16",
   "metadata": {},
   "outputs": [
    {
     "data": {
      "text/latex": [
       "Quantum object: dims=[[5, 5], [1, 1]], shape=(25, 1), type='ket', dtype=Dense$$\\left(\\begin{array}{cc}1\\\\0\\\\0\\\\0\\\\0\\\\\\vdots\\\\0\\\\0\\\\0\\\\0\\\\0\\end{array}\\right)$$"
      ],
      "text/plain": [
       "Quantum object: dims=[[5, 5], [1, 1]], shape=(25, 1), type='ket', dtype=Dense\n",
       "Qobj data =\n",
       "[[1.]\n",
       " [0.]\n",
       " [0.]\n",
       " [0.]\n",
       " [0.]\n",
       " [0.]\n",
       " [0.]\n",
       " [0.]\n",
       " [0.]\n",
       " [0.]\n",
       " [0.]\n",
       " [0.]\n",
       " [0.]\n",
       " [0.]\n",
       " [0.]\n",
       " [0.]\n",
       " [0.]\n",
       " [0.]\n",
       " [0.]\n",
       " [0.]\n",
       " [0.]\n",
       " [0.]\n",
       " [0.]\n",
       " [0.]\n",
       " [0.]]"
      ]
     },
     "execution_count": 22,
     "metadata": {},
     "output_type": "execute_result"
    }
   ],
   "source": [
    "psi0"
   ]
  },
  {
   "cell_type": "markdown",
   "id": "665f52b5-b0f3-4508-a37e-2661c8993196",
   "metadata": {},
   "source": [
    "## Time evolution"
   ]
  },
  {
   "cell_type": "code",
   "execution_count": 23,
   "id": "82be8fc3-54ec-4c73-bc22-bed79ac52765",
   "metadata": {},
   "outputs": [],
   "source": [
    "times = np.linspace(0, T, num_steps + 1)"
   ]
  },
  {
   "cell_type": "code",
   "execution_count": 24,
   "id": "c6767489-6189-473a-a028-8e48f4a8c744",
   "metadata": {},
   "outputs": [
    {
     "data": {
      "application/vnd.jupyter.widget-view+json": {
       "model_id": "9c129d0b8e804f10b1fcd1d76aa6413a",
       "version_major": 2,
       "version_minor": 0
      },
      "text/plain": [
       "  0%|          | 0/1000 [00:00<?, ?it/s]"
      ]
     },
     "metadata": {},
     "output_type": "display_data"
    }
   ],
   "source": [
    "result = mesolve(H_t, psi0, times, [], [], args=H_args, options={\"progress_bar\": \"tqdm\"})"
   ]
  },
  {
   "cell_type": "markdown",
   "id": "d490a548-0389-4bcb-88a1-d226dd8efa90",
   "metadata": {},
   "source": [
    "### Extract final state"
   ]
  },
  {
   "cell_type": "code",
   "execution_count": 25,
   "id": "b5f5f1a4-afd0-4e18-81be-06d74b596f28",
   "metadata": {},
   "outputs": [
    {
     "data": {
      "text/latex": [
       "Quantum object: dims=[[5, 5], [1, 1]], shape=(25, 1), type='ket', dtype=Dense$$\\left(\\begin{array}{cc}(0.060-0.112j)\\\\0\\\\(0.124-0.225j)\\\\0\\\\(0.091-0.164j)\\\\\\vdots\\\\(0.100-0.180j)\\\\0\\\\(0.206-0.362j)\\\\0\\\\(0.151-0.264j)\\end{array}\\right)$$"
      ],
      "text/plain": [
       "Quantum object: dims=[[5, 5], [1, 1]], shape=(25, 1), type='ket', dtype=Dense\n",
       "Qobj data =\n",
       "[[0.06033036-0.11155821j]\n",
       " [0.        +0.j        ]\n",
       " [0.12436617-0.22457515j]\n",
       " [0.        +0.j        ]\n",
       " [0.09109157-0.1637439j ]\n",
       " [0.        +0.j        ]\n",
       " [0.        +0.j        ]\n",
       " [0.        +0.j        ]\n",
       " [0.        +0.j        ]\n",
       " [0.        +0.j        ]\n",
       " [0.136019  -0.24569629j]\n",
       " [0.        +0.j        ]\n",
       " [0.28044677-0.49447726j]\n",
       " [0.        +0.j        ]\n",
       " [0.20518078-0.36060378j]\n",
       " [0.        +0.j        ]\n",
       " [0.        +0.j        ]\n",
       " [0.        +0.j        ]\n",
       " [0.        +0.j        ]\n",
       " [0.        +0.j        ]\n",
       " [0.10006538-0.17999859j]\n",
       " [0.        +0.j        ]\n",
       " [0.20609533-0.36232123j]\n",
       " [0.        +0.j        ]\n",
       " [0.15102825-0.2641402j ]]"
      ]
     },
     "execution_count": 25,
     "metadata": {},
     "output_type": "execute_result"
    }
   ],
   "source": [
    "final_state = result.states[-1]\n",
    "final_state"
   ]
  },
  {
   "cell_type": "markdown",
   "id": "d15f3743-ccb1-434b-a26e-0429cc5fc044",
   "metadata": {},
   "source": [
    "### The complex values arise because the system accumulates a global phase factor over the adiabatic evolution process"
   ]
  },
  {
   "cell_type": "code",
   "execution_count": 26,
   "id": "2c75cc86-0cbe-4200-af36-cc7425fb7f0e",
   "metadata": {},
   "outputs": [
    {
     "data": {
      "text/latex": [
       "Quantum object: dims=[[25], [1]], shape=(25, 1), type='ket', dtype=Dense$$\\left(\\begin{array}{cc}0.127\\\\0\\\\0.257\\\\0\\\\0.187\\\\\\vdots\\\\0.206\\\\0\\\\0.417\\\\0\\\\0.304\\end{array}\\right)$$"
      ],
      "text/plain": [
       "Quantum object: dims=[[25], [1]], shape=(25, 1), type='ket', dtype=Dense\n",
       "Qobj data =\n",
       "[[0.12682659]\n",
       " [0.        ]\n",
       " [0.25671178]\n",
       " [0.        ]\n",
       " [0.18737593]\n",
       " [0.        ]\n",
       " [0.        ]\n",
       " [0.        ]\n",
       " [0.        ]\n",
       " [0.        ]\n",
       " [0.28083418]\n",
       " [0.        ]\n",
       " [0.56847   ]\n",
       " [0.        ]\n",
       " [0.41489064]\n",
       " [0.        ]\n",
       " [0.        ]\n",
       " [0.        ]\n",
       " [0.        ]\n",
       " [0.        ]\n",
       " [0.20594313]\n",
       " [0.        ]\n",
       " [0.41683565]\n",
       " [0.        ]\n",
       " [0.30426893]]"
      ]
     },
     "execution_count": 26,
     "metadata": {},
     "output_type": "execute_result"
    }
   ],
   "source": [
    "fs = Qobj(np.abs(final_state.full()))\n",
    "fs"
   ]
  },
  {
   "cell_type": "markdown",
   "id": "8876eb8d-ee9a-4447-a8b4-231228d7a4ce",
   "metadata": {},
   "source": [
    "## Ground state of final Hamiltonian"
   ]
  },
  {
   "cell_type": "code",
   "execution_count": 27,
   "id": "a98d4b29-9972-4cf8-96ac-46466ec1d867",
   "metadata": {},
   "outputs": [],
   "source": [
    "H_f = H_t(T, args=H_args)"
   ]
  },
  {
   "cell_type": "code",
   "execution_count": 28,
   "id": "6081bd6e-a502-44f2-b2bd-16db5dc4c5a6",
   "metadata": {},
   "outputs": [
    {
     "data": {
      "text/latex": [
       "Quantum object: dims=[[5, 5], [5, 5]], shape=(25, 25), type='oper', dtype=Dia, isherm=True$$\\left(\\begin{array}{cc}-0.163 & 0 & -4.950 & 0 & 0 & \\cdots & 0 & 0 & 0 & 0 & 0\\\\0 & 0 & 0 & -8.573 & 0 & \\cdots & 0 & 0 & 0 & 0 & 0\\\\-4.950 & 0 & 1.163 & 0 & -12.124 & \\cdots & 0 & 0 & 0 & 0 & 0\\\\0 & -8.573 & 0 & 3.325 & 0 & \\cdots & 0 & 0 & 0 & 0 & 0\\\\0 & 0 & -12.124 & 0 & 6.488 & \\cdots & 0 & 0 & 0 & 0 & 0\\\\\\vdots & \\vdots & \\vdots & \\vdots & \\vdots & \\ddots & \\vdots & \\vdots & \\vdots & \\vdots & \\vdots\\\\0 & 0 & 0 & 0 & 0 & \\cdots & 6.000 & 0 & -4.950 & 0 & 0\\\\0 & 0 & 0 & 0 & 0 & \\cdots & 0 & 6.163 & 0 & -8.573 & 0\\\\0 & 0 & 0 & 0 & 0 & \\cdots & -4.950 & 0 & 7.325 & 0 & -12.124\\\\0 & 0 & 0 & 0 & 0 & \\cdots & 0 & -8.573 & 0 & 9.488 & 0\\\\0 & 0 & 0 & 0 & 0 & \\cdots & 0 & 0 & -12.124 & 0 & 12.651\\end{array}\\right)$$"
      ],
      "text/plain": [
       "Quantum object: dims=[[5, 5], [5, 5]], shape=(25, 25), type='oper', dtype=Dia, isherm=True\n",
       "Qobj data =\n",
       "[[ -0.16269808   0.          -4.94974747   0.           0.\n",
       "    0.           0.           0.           0.           0.\n",
       "   -4.94974747   0.           0.           0.           0.\n",
       "    0.           0.           0.           0.           0.\n",
       "    0.           0.           0.           0.           0.        ]\n",
       " [  0.           0.           0.          -8.5732141    0.\n",
       "    0.           0.           0.           0.           0.\n",
       "    0.          -4.94974747   0.           0.           0.\n",
       "    0.           0.           0.           0.           0.\n",
       "    0.           0.           0.           0.           0.        ]\n",
       " [ -4.94974747   0.           1.16269808   0.         -12.12435565\n",
       "    0.           0.           0.           0.           0.\n",
       "    0.           0.          -4.94974747   0.           0.\n",
       "    0.           0.           0.           0.           0.\n",
       "    0.           0.           0.           0.           0.        ]\n",
       " [  0.          -8.5732141    0.           3.32539616   0.\n",
       "    0.           0.           0.           0.           0.\n",
       "    0.           0.           0.          -4.94974747   0.\n",
       "    0.           0.           0.           0.           0.\n",
       "    0.           0.           0.           0.           0.        ]\n",
       " [  0.           0.         -12.12435565   0.           6.48809424\n",
       "    0.           0.           0.           0.           0.\n",
       "    0.           0.           0.           0.          -4.94974747\n",
       "    0.           0.           0.           0.           0.\n",
       "    0.           0.           0.           0.           0.        ]\n",
       " [  0.           0.           0.           0.           0.\n",
       "   -0.32539616   0.          -4.94974747   0.           0.\n",
       "    0.           0.           0.           0.           0.\n",
       "   -8.5732141    0.           0.           0.           0.\n",
       "    0.           0.           0.           0.           0.        ]\n",
       " [  0.           0.           0.           0.           0.\n",
       "    0.          -0.16269808   0.          -8.5732141    0.\n",
       "    0.           0.           0.           0.           0.\n",
       "    0.          -8.5732141    0.           0.           0.\n",
       "    0.           0.           0.           0.           0.        ]\n",
       " [  0.           0.           0.           0.           0.\n",
       "   -4.94974747   0.           1.           0.         -12.12435565\n",
       "    0.           0.           0.           0.           0.\n",
       "    0.           0.          -8.5732141    0.           0.\n",
       "    0.           0.           0.           0.           0.        ]\n",
       " [  0.           0.           0.           0.           0.\n",
       "    0.          -8.5732141    0.           3.16269808   0.\n",
       "    0.           0.           0.           0.           0.\n",
       "    0.           0.           0.          -8.5732141    0.\n",
       "    0.           0.           0.           0.           0.        ]\n",
       " [  0.           0.           0.           0.           0.\n",
       "    0.           0.         -12.12435565   0.           6.32539616\n",
       "    0.           0.           0.           0.           0.\n",
       "    0.           0.           0.           0.          -8.5732141\n",
       "    0.           0.           0.           0.           0.        ]\n",
       " [ -4.94974747   0.           0.           0.           0.\n",
       "    0.           0.           0.           0.           0.\n",
       "    0.51190576   0.          -4.94974747   0.           0.\n",
       "    0.           0.           0.           0.           0.\n",
       "  -12.12435565   0.           0.           0.           0.        ]\n",
       " [  0.          -4.94974747   0.           0.           0.\n",
       "    0.           0.           0.           0.           0.\n",
       "    0.           0.67460384   0.          -8.5732141    0.\n",
       "    0.           0.           0.           0.           0.\n",
       "    0.         -12.12435565   0.           0.           0.        ]\n",
       " [  0.           0.          -4.94974747   0.           0.\n",
       "    0.           0.           0.           0.           0.\n",
       "   -4.94974747   0.           1.83730192   0.         -12.12435565\n",
       "    0.           0.           0.           0.           0.\n",
       "    0.           0.         -12.12435565   0.           0.        ]\n",
       " [  0.           0.           0.          -4.94974747   0.\n",
       "    0.           0.           0.           0.           0.\n",
       "    0.          -8.5732141    0.           4.           0.\n",
       "    0.           0.           0.           0.           0.\n",
       "    0.           0.           0.         -12.12435565   0.        ]\n",
       " [  0.           0.           0.           0.          -4.94974747\n",
       "    0.           0.           0.           0.           0.\n",
       "    0.           0.         -12.12435565   0.           7.16269808\n",
       "    0.           0.           0.           0.           0.\n",
       "    0.           0.           0.           0.         -12.12435565]\n",
       " [  0.           0.           0.           0.           0.\n",
       "   -8.5732141    0.           0.           0.           0.\n",
       "    0.           0.           0.           0.           0.\n",
       "    2.34920768   0.          -4.94974747   0.           0.\n",
       "    0.           0.           0.           0.           0.        ]\n",
       " [  0.           0.           0.           0.           0.\n",
       "    0.          -8.5732141    0.           0.           0.\n",
       "    0.           0.           0.           0.           0.\n",
       "    0.           2.51190576   0.          -8.5732141    0.\n",
       "    0.           0.           0.           0.           0.        ]\n",
       " [  0.           0.           0.           0.           0.\n",
       "    0.           0.          -8.5732141    0.           0.\n",
       "    0.           0.           0.           0.           0.\n",
       "   -4.94974747   0.           3.67460384   0.         -12.12435565\n",
       "    0.           0.           0.           0.           0.        ]\n",
       " [  0.           0.           0.           0.           0.\n",
       "    0.           0.           0.          -8.5732141    0.\n",
       "    0.           0.           0.           0.           0.\n",
       "    0.          -8.5732141    0.           5.83730192   0.\n",
       "    0.           0.           0.           0.           0.        ]\n",
       " [  0.           0.           0.           0.           0.\n",
       "    0.           0.           0.           0.          -8.5732141\n",
       "    0.           0.           0.           0.           0.\n",
       "    0.           0.         -12.12435565   0.           9.\n",
       "    0.           0.           0.           0.           0.        ]\n",
       " [  0.           0.           0.           0.           0.\n",
       "    0.           0.           0.           0.           0.\n",
       "  -12.12435565   0.           0.           0.           0.\n",
       "    0.           0.           0.           0.           0.\n",
       "    6.           0.          -4.94974747   0.           0.        ]\n",
       " [  0.           0.           0.           0.           0.\n",
       "    0.           0.           0.           0.           0.\n",
       "    0.         -12.12435565   0.           0.           0.\n",
       "    0.           0.           0.           0.           0.\n",
       "    0.           6.16269808   0.          -8.5732141    0.        ]\n",
       " [  0.           0.           0.           0.           0.\n",
       "    0.           0.           0.           0.           0.\n",
       "    0.           0.         -12.12435565   0.           0.\n",
       "    0.           0.           0.           0.           0.\n",
       "   -4.94974747   0.           7.32539616   0.         -12.12435565]\n",
       " [  0.           0.           0.           0.           0.\n",
       "    0.           0.           0.           0.           0.\n",
       "    0.           0.           0.         -12.12435565   0.\n",
       "    0.           0.           0.           0.           0.\n",
       "    0.          -8.5732141    0.           9.48809424   0.        ]\n",
       " [  0.           0.           0.           0.           0.\n",
       "    0.           0.           0.           0.           0.\n",
       "    0.           0.           0.           0.         -12.12435565\n",
       "    0.           0.           0.           0.           0.\n",
       "    0.           0.         -12.12435565   0.          12.65079232]]"
      ]
     },
     "execution_count": 28,
     "metadata": {},
     "output_type": "execute_result"
    }
   ],
   "source": [
    "H_f"
   ]
  },
  {
   "cell_type": "code",
   "execution_count": 29,
   "id": "c82dabc7-a103-421d-816f-d5874a3a56ef",
   "metadata": {},
   "outputs": [],
   "source": [
    "ground_state = H_f.groundstate()[1]"
   ]
  },
  {
   "cell_type": "code",
   "execution_count": 30,
   "id": "75e71d22-5fe8-48f5-ade4-1720583951e1",
   "metadata": {},
   "outputs": [
    {
     "data": {
      "text/latex": [
       "Quantum object: dims=[[25], [1]], shape=(25, 1), type='ket', dtype=Dense$$\\left(\\begin{array}{cc}0.133\\\\3.331\\times10^{ -16 }\\\\0.267\\\\3.331\\times10^{ -16 }\\\\0.195\\\\\\vdots\\\\0.205\\\\1.720\\times10^{ -16 }\\\\0.412\\\\1.349\\times10^{ -16 }\\\\0.301\\end{array}\\right)$$"
      ],
      "text/plain": [
       "Quantum object: dims=[[25], [1]], shape=(25, 1), type='ket', dtype=Dense\n",
       "Qobj data =\n",
       "[[1.32653597e-01]\n",
       " [3.33066907e-16]\n",
       " [2.67291971e-01]\n",
       " [3.33066907e-16]\n",
       " [1.94939575e-01]\n",
       " [0.00000000e+00]\n",
       " [0.00000000e+00]\n",
       " [8.67361738e-19]\n",
       " [9.23265913e-20]\n",
       " [2.84492802e-19]\n",
       " [2.81107579e-01]\n",
       " [2.84528250e-16]\n",
       " [5.66421119e-01]\n",
       " [2.13517961e-16]\n",
       " [4.13098424e-01]\n",
       " [8.21996092e-20]\n",
       " [8.43077334e-20]\n",
       " [3.24271556e-19]\n",
       " [5.71961578e-20]\n",
       " [2.15039135e-19]\n",
       " [2.04677985e-01]\n",
       " [1.71959461e-16]\n",
       " [4.12418382e-01]\n",
       " [1.34923728e-16]\n",
       " [3.00782189e-01]]"
      ]
     },
     "execution_count": 30,
     "metadata": {},
     "output_type": "execute_result"
    }
   ],
   "source": [
    "gs = Qobj(np.abs(ground_state.full()))\n",
    "gs"
   ]
  },
  {
   "cell_type": "markdown",
   "id": "9ecae9e2-65bb-468b-ae6f-bd9b8ec95d9c",
   "metadata": {},
   "source": [
    "### Check if the final state after adiabatic evolution is equal to the instantaneous ground state of the final hamiltonian"
   ]
  },
  {
   "cell_type": "code",
   "execution_count": 31,
   "id": "086cd469-3c9d-43f8-9624-a6edf39823fd",
   "metadata": {},
   "outputs": [
    {
     "data": {
      "text/plain": [
       "0.9998780710307189"
      ]
     },
     "execution_count": 31,
     "metadata": {},
     "output_type": "execute_result"
    }
   ],
   "source": [
    "def cossim(fs, gs):\n",
    "    if np.linalg.norm(fs) * np.linalg.norm(gs) != 0:\n",
    "        cossim = np.dot(fs.T, gs) / (np.linalg.norm(fs) * np.linalg.norm(gs))\n",
    "        return cossim.item()  # Convert the 2D array to a scalar\n",
    "    else:\n",
    "        return 0  # Return 0 as a scalar\n",
    "\n",
    "sim = np.real(cossim(fs.full(), gs.full()))"
   ]
  },
  {
   "cell_type": "code",
   "execution_count": null,
   "id": "acef3229",
   "metadata": {},
   "outputs": [],
   "source": [
    "H_i_eigen_val, H_i_Eigenvecs = H_t(0, args=H_args).eigenstates()\n",
    "print(H_i_eigen_val)"
   ]
  }
 ],
 "metadata": {
  "kernelspec": {
   "display_name": "Python 3 (ipykernel)",
   "language": "python",
   "name": "python3"
  },
  "language_info": {
   "codemirror_mode": {
    "name": "ipython",
    "version": 3
   },
   "file_extension": ".py",
   "mimetype": "text/x-python",
   "name": "python",
   "nbconvert_exporter": "python",
   "pygments_lexer": "ipython3",
   "version": "3.12.2"
  }
 },
 "nbformat": 4,
 "nbformat_minor": 5
}
