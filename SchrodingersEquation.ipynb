{
 "cells": [
  {
   "cell_type": "markdown",
   "metadata": {},
   "source": [
    "# Numerically Solving for Particle in a box using Schrodinger's Time Independant Equation\n",
    "\n",
    "## Schrodinger's Equation and the conditions for a particle in a box.\n",
    "\n",
    "We have a time independant version of Schrodinger's Equation:\n",
    "$$\n",
    "    \\frac {d^2\\Phi} {d x^2} = - m\n",
    "$$"
   ]
  },
  {
   "cell_type": "code",
   "execution_count": 1,
   "metadata": {},
   "outputs": [],
   "source": [
    "import numpy as np\n",
    "import matplotlib.pyplot as plt\n",
    "from scipy.linalg import eigh_tridiagonal\n",
    "\n",
    "\n",
    "L = 2\n",
    "hbar = 1        # Planks constant set to 1\n",
    "N = 1000\n",
    "y = L/N\n",
    "m = 0.1\n",
    "\n",
    "x_val = np.linspace(0, 2, N+1)\n",
    "\n",
    "def PotentialFunc(x:float):\n",
    "    return 0\n",
    "\n",
    "def DiagFunc(i:int):\n",
    "    return -((1/y**2) + (2*PotentialFunc(y*i)*m)/hbar**2)"
   ]
  }
 ],
 "metadata": {
  "kernelspec": {
   "display_name": "Python 3",
   "language": "python",
   "name": "python3"
  },
  "language_info": {
   "codemirror_mode": {
    "name": "ipython",
    "version": 3
   },
   "file_extension": ".py",
   "mimetype": "text/x-python",
   "name": "python",
   "nbconvert_exporter": "python",
   "pygments_lexer": "ipython3",
   "version": "3.12.3"
  }
 },
 "nbformat": 4,
 "nbformat_minor": 2
}
